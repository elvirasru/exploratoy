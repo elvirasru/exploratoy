{
  "nbformat": 4,
  "nbformat_minor": 0,
  "metadata": {
    "colab": {
      "name": "madrid-unemployment.ipynb",
      "provenance": [],
      "authorship_tag": "ABX9TyNVNTZ8OVmLCsqSo3j+MX6y",
      "include_colab_link": true
    },
    "kernelspec": {
      "name": "python3",
      "display_name": "Python 3"
    }
  },
  "cells": [
    {
      "cell_type": "markdown",
      "metadata": {
        "id": "view-in-github",
        "colab_type": "text"
      },
      "source": [
        "<a href=\"https://colab.research.google.com/github/elvirasru/exploratoy/blob/main/madrid_unemployment.ipynb\" target=\"_parent\"><img src=\"https://colab.research.google.com/assets/colab-badge.svg\" alt=\"Open In Colab\"/></a>"
      ]
    },
    {
      "cell_type": "markdown",
      "metadata": {
        "id": "N6MVjo83smfv"
      },
      "source": [
        "# Exploratory Data Analysis"
      ]
    },
    {
      "cell_type": "code",
      "metadata": {
        "id": "ZbCfOasIEExB"
      },
      "source": [
        "import pandas as pd\r\n",
        "import numpy as np\r\n",
        "import requests as rq\r\n",
        "import io"
      ],
      "execution_count": 1,
      "outputs": []
    },
    {
      "cell_type": "markdown",
      "metadata": {
        "id": "k-fdPzHwCxnq"
      },
      "source": [
        "## 1. Read Data"
      ]
    },
    {
      "cell_type": "code",
      "metadata": {
        "id": "1ujOplc2ELqm"
      },
      "source": [
        "response2020 = rq.get('https://datos.madrid.es/egob/catalogo/300296-6-empleo-inscripciones.csv')\r\n",
        "response2019 = rq.get('https://datos.madrid.es/egob/catalogo/300296-4-empleo-inscripciones.csv')\r\n",
        "response2018 = rq.get('https://datos.madrid.es/egob/catalogo/300296-2-empleo-inscripciones.csv')\r\n",
        "\r\n",
        "file_object1 = io.StringIO(response2020.content.decode('latin-1'))\r\n",
        "file_object2 = io.StringIO(response2019.content.decode('latin-1'))\r\n",
        "file_object3 = io.StringIO(response2018.content.decode('latin-1'))"
      ],
      "execution_count": 28,
      "outputs": []
    },
    {
      "cell_type": "code",
      "metadata": {
        "id": "4GVn9kDXJk_r"
      },
      "source": [
        "dataset2020 = pd.read_csv(file_object1, sep = ';')\r\n",
        "dataset2019 = pd.read_csv(file_object2, sep = ';')\r\n",
        "dataset2018 = pd.read_csv(file_object3, sep = ';')"
      ],
      "execution_count": 29,
      "outputs": []
    },
    {
      "cell_type": "code",
      "metadata": {
        "colab": {
          "base_uri": "https://localhost:8080/",
          "height": 196
        },
        "id": "yZls2Ao2-nvB",
        "outputId": "5fca10e8-fbdf-409f-e7c8-189a9fd57a24"
      },
      "source": [
        "dataset2020.head(2)"
      ],
      "execution_count": 30,
      "outputs": [
        {
          "output_type": "execute_result",
          "data": {
            "text/html": [
              "<div>\n",
              "<style scoped>\n",
              "    .dataframe tbody tr th:only-of-type {\n",
              "        vertical-align: middle;\n",
              "    }\n",
              "\n",
              "    .dataframe tbody tr th {\n",
              "        vertical-align: top;\n",
              "    }\n",
              "\n",
              "    .dataframe thead th {\n",
              "        text-align: right;\n",
              "    }\n",
              "</style>\n",
              "<table border=\"1\" class=\"dataframe\">\n",
              "  <thead>\n",
              "    <tr style=\"text-align: right;\">\n",
              "      <th></th>\n",
              "      <th>Fecha de Inscripción</th>\n",
              "      <th>Género</th>\n",
              "      <th>Distrito</th>\n",
              "      <th>Tramos de Edad</th>\n",
              "      <th>Nacionalidad</th>\n",
              "      <th>Código Objetivo Profesional 1</th>\n",
              "      <th>Objetivo Profesional 1</th>\n",
              "      <th>Código Objetivo Profesional 2</th>\n",
              "      <th>Objetivo Profesional 2</th>\n",
              "      <th>Código Objetivo Profesional 3</th>\n",
              "      <th>Objetivo Profesional 3</th>\n",
              "    </tr>\n",
              "  </thead>\n",
              "  <tbody>\n",
              "    <tr>\n",
              "      <th>0</th>\n",
              "      <td>ene-20</td>\n",
              "      <td>Hombre</td>\n",
              "      <td>Tetuán</td>\n",
              "      <td>Entre 26 y 35 años</td>\n",
              "      <td>Española</td>\n",
              "      <td>7231.0</td>\n",
              "      <td>Pintores y empapeladores</td>\n",
              "      <td>9310.0</td>\n",
              "      <td>Ayudantes de cocina</td>\n",
              "      <td>5120.0</td>\n",
              "      <td>Camareros asalariados</td>\n",
              "    </tr>\n",
              "    <tr>\n",
              "      <th>1</th>\n",
              "      <td>ene-20</td>\n",
              "      <td>Mujer</td>\n",
              "      <td>Puente De Vallecas</td>\n",
              "      <td>Entre 26 y 35 años</td>\n",
              "      <td>Española</td>\n",
              "      <td>2823.0</td>\n",
              "      <td>Psicólogos</td>\n",
              "      <td>2311.0</td>\n",
              "      <td>Profesores de educación especial</td>\n",
              "      <td>2240.0</td>\n",
              "      <td>Profesores de enseñanza primaria</td>\n",
              "    </tr>\n",
              "  </tbody>\n",
              "</table>\n",
              "</div>"
            ],
            "text/plain": [
              "  Fecha de Inscripción  ...            Objetivo Profesional 3\n",
              "0               ene-20  ...             Camareros asalariados\n",
              "1               ene-20  ...  Profesores de enseñanza primaria\n",
              "\n",
              "[2 rows x 11 columns]"
            ]
          },
          "metadata": {
            "tags": []
          },
          "execution_count": 30
        }
      ]
    },
    {
      "cell_type": "code",
      "metadata": {
        "colab": {
          "base_uri": "https://localhost:8080/",
          "height": 213
        },
        "id": "ej7EMoqR-uAN",
        "outputId": "a2f2301a-c152-4488-d99a-1d4b16df5aaf"
      },
      "source": [
        "dataset2019.head(2)"
      ],
      "execution_count": 5,
      "outputs": [
        {
          "output_type": "execute_result",
          "data": {
            "text/html": [
              "<div>\n",
              "<style scoped>\n",
              "    .dataframe tbody tr th:only-of-type {\n",
              "        vertical-align: middle;\n",
              "    }\n",
              "\n",
              "    .dataframe tbody tr th {\n",
              "        vertical-align: top;\n",
              "    }\n",
              "\n",
              "    .dataframe thead th {\n",
              "        text-align: right;\n",
              "    }\n",
              "</style>\n",
              "<table border=\"1\" class=\"dataframe\">\n",
              "  <thead>\n",
              "    <tr style=\"text-align: right;\">\n",
              "      <th></th>\n",
              "      <th>Fecha de Inscripción</th>\n",
              "      <th>Género</th>\n",
              "      <th>Distrito</th>\n",
              "      <th>Tramos de Edad</th>\n",
              "      <th>Nacionalidad</th>\n",
              "      <th>Código Objetivo Profesional 1</th>\n",
              "      <th>Objetivo Profesional 1</th>\n",
              "      <th>Código Objetivo Profesional 2</th>\n",
              "      <th>Objetivo Profesional 2</th>\n",
              "      <th>Código Objetivo Profesional 3</th>\n",
              "      <th>Objetivo Profesional 3</th>\n",
              "    </tr>\n",
              "  </thead>\n",
              "  <tbody>\n",
              "    <tr>\n",
              "      <th>0</th>\n",
              "      <td>ene-19</td>\n",
              "      <td>Mujer</td>\n",
              "      <td>Otro Municipio</td>\n",
              "      <td>Entre 36 y 45 años</td>\n",
              "      <td>Española</td>\n",
              "      <td>3613.0</td>\n",
              "      <td>Asistentes de dirección y administrativos</td>\n",
              "      <td>4500.0</td>\n",
              "      <td>Empleados administrativos con tareas de atenci...</td>\n",
              "      <td>2329.0</td>\n",
              "      <td>Profesores y profesionales de la enseñanza no ...</td>\n",
              "    </tr>\n",
              "    <tr>\n",
              "      <th>1</th>\n",
              "      <td>ene-19</td>\n",
              "      <td>Mujer</td>\n",
              "      <td>Usera</td>\n",
              "      <td>Entre 36 y 45 años</td>\n",
              "      <td>Española</td>\n",
              "      <td>NaN</td>\n",
              "      <td>NaN</td>\n",
              "      <td>NaN</td>\n",
              "      <td>NaN</td>\n",
              "      <td>NaN</td>\n",
              "      <td>NaN</td>\n",
              "    </tr>\n",
              "  </tbody>\n",
              "</table>\n",
              "</div>"
            ],
            "text/plain": [
              "  Fecha de Inscripción  ...                             Objetivo Profesional 3\n",
              "0               ene-19  ...  Profesores y profesionales de la enseñanza no ...\n",
              "1               ene-19  ...                                                NaN\n",
              "\n",
              "[2 rows x 11 columns]"
            ]
          },
          "metadata": {
            "tags": []
          },
          "execution_count": 5
        }
      ]
    },
    {
      "cell_type": "code",
      "metadata": {
        "colab": {
          "base_uri": "https://localhost:8080/",
          "height": 213
        },
        "id": "ylerfqmn-xUA",
        "outputId": "14ed54db-7d05-476c-c31e-66c74701d589"
      },
      "source": [
        "dataset2018.head(2)"
      ],
      "execution_count": 6,
      "outputs": [
        {
          "output_type": "execute_result",
          "data": {
            "text/html": [
              "<div>\n",
              "<style scoped>\n",
              "    .dataframe tbody tr th:only-of-type {\n",
              "        vertical-align: middle;\n",
              "    }\n",
              "\n",
              "    .dataframe tbody tr th {\n",
              "        vertical-align: top;\n",
              "    }\n",
              "\n",
              "    .dataframe thead th {\n",
              "        text-align: right;\n",
              "    }\n",
              "</style>\n",
              "<table border=\"1\" class=\"dataframe\">\n",
              "  <thead>\n",
              "    <tr style=\"text-align: right;\">\n",
              "      <th></th>\n",
              "      <th>Fecha de Inscripción</th>\n",
              "      <th>Género</th>\n",
              "      <th>Distrito</th>\n",
              "      <th>Tramos de Edad</th>\n",
              "      <th>Nacionalidad</th>\n",
              "      <th>Código Objetivo Profesional 1</th>\n",
              "      <th>Objetivo Profesional 1</th>\n",
              "      <th>Código Objetivo Profesional 2</th>\n",
              "      <th>Objetivo Profesional 2</th>\n",
              "      <th>Código Objetivo Profesional 3</th>\n",
              "      <th>Objetivo Profesional 3</th>\n",
              "    </tr>\n",
              "  </thead>\n",
              "  <tbody>\n",
              "    <tr>\n",
              "      <th>0</th>\n",
              "      <td>enero-18</td>\n",
              "      <td>Mujer</td>\n",
              "      <td>Carabanchel</td>\n",
              "      <td>Entre 26 y 35 años</td>\n",
              "      <td>Española</td>\n",
              "      <td>5611.0</td>\n",
              "      <td>Auxiliares de enfermería hospitalaria</td>\n",
              "      <td>5611.0</td>\n",
              "      <td>Auxiliares de enfermería hospitalaria</td>\n",
              "      <td>5710.0</td>\n",
              "      <td>Trabajadores de los cuidados personales a domi...</td>\n",
              "    </tr>\n",
              "    <tr>\n",
              "      <th>1</th>\n",
              "      <td>enero-18</td>\n",
              "      <td>Mujer</td>\n",
              "      <td>Tetuán</td>\n",
              "      <td>Entre 36 y 45 años</td>\n",
              "      <td>Española</td>\n",
              "      <td>5120.0</td>\n",
              "      <td>Camareros asalariados</td>\n",
              "      <td>5220.0</td>\n",
              "      <td>Vendedores en tiendas y almacenes</td>\n",
              "      <td>9210.0</td>\n",
              "      <td>Personal de limpieza de oficinas, hoteles y ot...</td>\n",
              "    </tr>\n",
              "  </tbody>\n",
              "</table>\n",
              "</div>"
            ],
            "text/plain": [
              "  Fecha de Inscripción  ...                             Objetivo Profesional 3\n",
              "0             enero-18  ...  Trabajadores de los cuidados personales a domi...\n",
              "1             enero-18  ...  Personal de limpieza de oficinas, hoteles y ot...\n",
              "\n",
              "[2 rows x 11 columns]"
            ]
          },
          "metadata": {
            "tags": []
          },
          "execution_count": 6
        }
      ]
    },
    {
      "cell_type": "code",
      "metadata": {
        "id": "venwyiRi9-fS"
      },
      "source": [
        "dataset = pd.concat([dataset2018, dataset2019, dataset2020], axis= 0)"
      ],
      "execution_count": 53,
      "outputs": []
    },
    {
      "cell_type": "markdown",
      "metadata": {
        "id": "2hGk30IbuGlf"
      },
      "source": [
        "## 2. Clean Data"
      ]
    },
    {
      "cell_type": "code",
      "metadata": {
        "colab": {
          "base_uri": "https://localhost:8080/"
        },
        "id": "WujGqEWu-Jy3",
        "outputId": "f2597706-87ff-4484-9709-9d94cfaabb64"
      },
      "source": [
        "dataset.info()"
      ],
      "execution_count": 54,
      "outputs": [
        {
          "output_type": "stream",
          "text": [
            "<class 'pandas.core.frame.DataFrame'>\n",
            "Int64Index: 46792 entries, 0 to 15138\n",
            "Data columns (total 11 columns):\n",
            " #   Column                         Non-Null Count  Dtype  \n",
            "---  ------                         --------------  -----  \n",
            " 0   Fecha de Inscripción           46792 non-null  object \n",
            " 1   Género                         46792 non-null  object \n",
            " 2   Distrito                       46792 non-null  object \n",
            " 3   Tramos de Edad                 46792 non-null  object \n",
            " 4   Nacionalidad                   46792 non-null  object \n",
            " 5   Código Objetivo Profesional 1  44581 non-null  float64\n",
            " 6   Objetivo Profesional 1         44581 non-null  object \n",
            " 7   Código Objetivo Profesional 2  37423 non-null  float64\n",
            " 8   Objetivo Profesional 2         37423 non-null  object \n",
            " 9   Código Objetivo Profesional 3  30873 non-null  float64\n",
            " 10  Objetivo Profesional 3         30873 non-null  object \n",
            "dtypes: float64(3), object(8)\n",
            "memory usage: 4.3+ MB\n"
          ],
          "name": "stdout"
        }
      ]
    },
    {
      "cell_type": "markdown",
      "metadata": {
        "id": "X7Th3Vfc-6DC"
      },
      "source": [
        "Change the type of columns \"Código Objetivo Profesional 1\", \"Código Objetivo Profesional 2\" and \"Código Objetivo Profesional 3\"."
      ]
    },
    {
      "cell_type": "code",
      "metadata": {
        "id": "_hOarB-_-80f"
      },
      "source": [
        "dataset[\"Código Objetivo Profesional 1\"] = dataset[\"Código Objetivo Profesional 1\"].astype('Int64')\r\n",
        "dataset[\"Código Objetivo Profesional 2\"] = dataset[\"Código Objetivo Profesional 2\"].astype('Int64')\r\n",
        "dataset[\"Código Objetivo Profesional 3\"] = dataset[\"Código Objetivo Profesional 3\"].astype('Int64')"
      ],
      "execution_count": 55,
      "outputs": []
    },
    {
      "cell_type": "code",
      "metadata": {
        "colab": {
          "base_uri": "https://localhost:8080/",
          "height": 213
        },
        "id": "PqIq_y_0_bZ3",
        "outputId": "1f935051-f118-4c84-f29e-cd78df6d4ed5"
      },
      "source": [
        "dataset.head(2)"
      ],
      "execution_count": 34,
      "outputs": [
        {
          "output_type": "execute_result",
          "data": {
            "text/html": [
              "<div>\n",
              "<style scoped>\n",
              "    .dataframe tbody tr th:only-of-type {\n",
              "        vertical-align: middle;\n",
              "    }\n",
              "\n",
              "    .dataframe tbody tr th {\n",
              "        vertical-align: top;\n",
              "    }\n",
              "\n",
              "    .dataframe thead th {\n",
              "        text-align: right;\n",
              "    }\n",
              "</style>\n",
              "<table border=\"1\" class=\"dataframe\">\n",
              "  <thead>\n",
              "    <tr style=\"text-align: right;\">\n",
              "      <th></th>\n",
              "      <th>Fecha de Inscripción</th>\n",
              "      <th>Género</th>\n",
              "      <th>Distrito</th>\n",
              "      <th>Tramos de Edad</th>\n",
              "      <th>Nacionalidad</th>\n",
              "      <th>Código Objetivo Profesional 1</th>\n",
              "      <th>Objetivo Profesional 1</th>\n",
              "      <th>Código Objetivo Profesional 2</th>\n",
              "      <th>Objetivo Profesional 2</th>\n",
              "      <th>Código Objetivo Profesional 3</th>\n",
              "      <th>Objetivo Profesional 3</th>\n",
              "    </tr>\n",
              "  </thead>\n",
              "  <tbody>\n",
              "    <tr>\n",
              "      <th>0</th>\n",
              "      <td>enero-18</td>\n",
              "      <td>Mujer</td>\n",
              "      <td>Carabanchel</td>\n",
              "      <td>Entre 26 y 35 años</td>\n",
              "      <td>Española</td>\n",
              "      <td>5611</td>\n",
              "      <td>Auxiliares de enfermería hospitalaria</td>\n",
              "      <td>5611</td>\n",
              "      <td>Auxiliares de enfermería hospitalaria</td>\n",
              "      <td>5710</td>\n",
              "      <td>Trabajadores de los cuidados personales a domi...</td>\n",
              "    </tr>\n",
              "    <tr>\n",
              "      <th>1</th>\n",
              "      <td>enero-18</td>\n",
              "      <td>Mujer</td>\n",
              "      <td>Tetuán</td>\n",
              "      <td>Entre 36 y 45 años</td>\n",
              "      <td>Española</td>\n",
              "      <td>5120</td>\n",
              "      <td>Camareros asalariados</td>\n",
              "      <td>5220</td>\n",
              "      <td>Vendedores en tiendas y almacenes</td>\n",
              "      <td>9210</td>\n",
              "      <td>Personal de limpieza de oficinas, hoteles y ot...</td>\n",
              "    </tr>\n",
              "  </tbody>\n",
              "</table>\n",
              "</div>"
            ],
            "text/plain": [
              "  Fecha de Inscripción  ...                             Objetivo Profesional 3\n",
              "0             enero-18  ...  Trabajadores de los cuidados personales a domi...\n",
              "1             enero-18  ...  Personal de limpieza de oficinas, hoteles y ot...\n",
              "\n",
              "[2 rows x 11 columns]"
            ]
          },
          "metadata": {
            "tags": []
          },
          "execution_count": 34
        }
      ]
    },
    {
      "cell_type": "markdown",
      "metadata": {
        "id": "Np7FO33a_nDb"
      },
      "source": [
        "Split column \"Fecha de Inscripción\" into two new columns (\"InscriptionYear\" and \"InscriptionMonth\").\r\n"
      ]
    },
    {
      "cell_type": "code",
      "metadata": {
        "id": "ZoIZOowN_e8h"
      },
      "source": [
        "dataset = dataset.assign(InscriptionYear = dataset[\"Fecha de Inscripción\"].map(lambda x : \"20\" + x.split(\"-\")[1]),\r\n",
        "               InscriptionMonth = dataset[\"Fecha de Inscripción\"].map(lambda x : x.split(\"-\")[0]))"
      ],
      "execution_count": 56,
      "outputs": []
    },
    {
      "cell_type": "code",
      "metadata": {
        "colab": {
          "base_uri": "https://localhost:8080/",
          "height": 301
        },
        "id": "qdW71_NnAzBm",
        "outputId": "0d9b4d61-bb69-41c2-b4ee-09543c4f0880"
      },
      "source": [
        "dataset.head(2)"
      ],
      "execution_count": 57,
      "outputs": [
        {
          "output_type": "execute_result",
          "data": {
            "text/html": [
              "<div>\n",
              "<style scoped>\n",
              "    .dataframe tbody tr th:only-of-type {\n",
              "        vertical-align: middle;\n",
              "    }\n",
              "\n",
              "    .dataframe tbody tr th {\n",
              "        vertical-align: top;\n",
              "    }\n",
              "\n",
              "    .dataframe thead th {\n",
              "        text-align: right;\n",
              "    }\n",
              "</style>\n",
              "<table border=\"1\" class=\"dataframe\">\n",
              "  <thead>\n",
              "    <tr style=\"text-align: right;\">\n",
              "      <th></th>\n",
              "      <th>Fecha de Inscripción</th>\n",
              "      <th>Género</th>\n",
              "      <th>Distrito</th>\n",
              "      <th>Tramos de Edad</th>\n",
              "      <th>Nacionalidad</th>\n",
              "      <th>Código Objetivo Profesional 1</th>\n",
              "      <th>Objetivo Profesional 1</th>\n",
              "      <th>Código Objetivo Profesional 2</th>\n",
              "      <th>Objetivo Profesional 2</th>\n",
              "      <th>Código Objetivo Profesional 3</th>\n",
              "      <th>Objetivo Profesional 3</th>\n",
              "      <th>InscriptionYear</th>\n",
              "      <th>InscriptionMonth</th>\n",
              "    </tr>\n",
              "  </thead>\n",
              "  <tbody>\n",
              "    <tr>\n",
              "      <th>0</th>\n",
              "      <td>enero-18</td>\n",
              "      <td>Mujer</td>\n",
              "      <td>Carabanchel</td>\n",
              "      <td>Entre 26 y 35 años</td>\n",
              "      <td>Española</td>\n",
              "      <td>5611</td>\n",
              "      <td>Auxiliares de enfermería hospitalaria</td>\n",
              "      <td>5611</td>\n",
              "      <td>Auxiliares de enfermería hospitalaria</td>\n",
              "      <td>5710</td>\n",
              "      <td>Trabajadores de los cuidados personales a domi...</td>\n",
              "      <td>2018</td>\n",
              "      <td>enero</td>\n",
              "    </tr>\n",
              "    <tr>\n",
              "      <th>1</th>\n",
              "      <td>enero-18</td>\n",
              "      <td>Mujer</td>\n",
              "      <td>Tetuán</td>\n",
              "      <td>Entre 36 y 45 años</td>\n",
              "      <td>Española</td>\n",
              "      <td>5120</td>\n",
              "      <td>Camareros asalariados</td>\n",
              "      <td>5220</td>\n",
              "      <td>Vendedores en tiendas y almacenes</td>\n",
              "      <td>9210</td>\n",
              "      <td>Personal de limpieza de oficinas, hoteles y ot...</td>\n",
              "      <td>2018</td>\n",
              "      <td>enero</td>\n",
              "    </tr>\n",
              "  </tbody>\n",
              "</table>\n",
              "</div>"
            ],
            "text/plain": [
              "  Fecha de Inscripción Género  ... InscriptionYear InscriptionMonth\n",
              "0             enero-18  Mujer  ...            2018            enero\n",
              "1             enero-18  Mujer  ...            2018            enero\n",
              "\n",
              "[2 rows x 13 columns]"
            ]
          },
          "metadata": {
            "tags": []
          },
          "execution_count": 57
        }
      ]
    },
    {
      "cell_type": "markdown",
      "metadata": {
        "id": "X1QiEPVTH_Tk"
      },
      "source": [
        "Remove unnecessary column \"Fecha de Inscripción\"."
      ]
    },
    {
      "cell_type": "code",
      "metadata": {
        "id": "lqilWIQBA4RZ"
      },
      "source": [
        "dataset.drop([\"Fecha de Inscripción\"], axis = 1, inplace= True)"
      ],
      "execution_count": 58,
      "outputs": []
    },
    {
      "cell_type": "code",
      "metadata": {
        "colab": {
          "base_uri": "https://localhost:8080/"
        },
        "id": "Wp0YhKLVBn7G",
        "outputId": "aa05e7b1-0567-4c85-ab48-78ec54062809"
      },
      "source": [
        "dataset.info()"
      ],
      "execution_count": 59,
      "outputs": [
        {
          "output_type": "stream",
          "text": [
            "<class 'pandas.core.frame.DataFrame'>\n",
            "Int64Index: 46792 entries, 0 to 15138\n",
            "Data columns (total 12 columns):\n",
            " #   Column                         Non-Null Count  Dtype \n",
            "---  ------                         --------------  ----- \n",
            " 0   Género                         46792 non-null  object\n",
            " 1   Distrito                       46792 non-null  object\n",
            " 2   Tramos de Edad                 46792 non-null  object\n",
            " 3   Nacionalidad                   46792 non-null  object\n",
            " 4   Código Objetivo Profesional 1  44581 non-null  Int64 \n",
            " 5   Objetivo Profesional 1         44581 non-null  object\n",
            " 6   Código Objetivo Profesional 2  37423 non-null  Int64 \n",
            " 7   Objetivo Profesional 2         37423 non-null  object\n",
            " 8   Código Objetivo Profesional 3  30873 non-null  Int64 \n",
            " 9   Objetivo Profesional 3         30873 non-null  object\n",
            " 10  InscriptionYear                46792 non-null  object\n",
            " 11  InscriptionMonth               46792 non-null  object\n",
            "dtypes: Int64(3), object(9)\n",
            "memory usage: 4.8+ MB\n"
          ],
          "name": "stdout"
        }
      ]
    },
    {
      "cell_type": "markdown",
      "metadata": {
        "id": "hSnwwFAbIZ7e"
      },
      "source": [
        "Change data type from object to int in column \"InscrptionYear\"."
      ]
    },
    {
      "cell_type": "code",
      "metadata": {
        "id": "uTeksY_OBHph"
      },
      "source": [
        "dataset.InscriptionYear = dataset.InscriptionYear.astype(np.int)"
      ],
      "execution_count": 60,
      "outputs": []
    },
    {
      "cell_type": "code",
      "metadata": {
        "colab": {
          "base_uri": "https://localhost:8080/"
        },
        "id": "peXfxAMdBs1h",
        "outputId": "bfc65cc9-e8bd-4ee6-a1cb-631734b7230b"
      },
      "source": [
        "dataset.info()"
      ],
      "execution_count": 61,
      "outputs": [
        {
          "output_type": "stream",
          "text": [
            "<class 'pandas.core.frame.DataFrame'>\n",
            "Int64Index: 46792 entries, 0 to 15138\n",
            "Data columns (total 12 columns):\n",
            " #   Column                         Non-Null Count  Dtype \n",
            "---  ------                         --------------  ----- \n",
            " 0   Género                         46792 non-null  object\n",
            " 1   Distrito                       46792 non-null  object\n",
            " 2   Tramos de Edad                 46792 non-null  object\n",
            " 3   Nacionalidad                   46792 non-null  object\n",
            " 4   Código Objetivo Profesional 1  44581 non-null  Int64 \n",
            " 5   Objetivo Profesional 1         44581 non-null  object\n",
            " 6   Código Objetivo Profesional 2  37423 non-null  Int64 \n",
            " 7   Objetivo Profesional 2         37423 non-null  object\n",
            " 8   Código Objetivo Profesional 3  30873 non-null  Int64 \n",
            " 9   Objetivo Profesional 3         30873 non-null  object\n",
            " 10  InscriptionYear                46792 non-null  int64 \n",
            " 11  InscriptionMonth               46792 non-null  object\n",
            "dtypes: Int64(3), int64(1), object(8)\n",
            "memory usage: 4.8+ MB\n"
          ],
          "name": "stdout"
        }
      ]
    },
    {
      "cell_type": "markdown",
      "metadata": {
        "id": "mfIC6-3aByeD"
      },
      "source": [
        "\r\n",
        "With a view to being able of sorting the dataset, replace the month names by month number:\r\n",
        "\r\n"
      ]
    },
    {
      "cell_type": "code",
      "metadata": {
        "colab": {
          "base_uri": "https://localhost:8080/"
        },
        "id": "86jiPpSJBv2Q",
        "outputId": "4af2bb9b-3b17-4034-f85d-e72db46c025a"
      },
      "source": [
        "dataset[\"InscriptionMonth\"].unique()"
      ],
      "execution_count": 62,
      "outputs": [
        {
          "output_type": "execute_result",
          "data": {
            "text/plain": [
              "array(['enero', 'febrero', 'marzo', 'abril', 'mayo', 'junio', 'julio',\n",
              "       'agosto', 'septiembre', 'octubre', 'noviembre', 'diciembre', 'ene',\n",
              "       'feb', 'mar', 'abr', 'may', 'jun', 'jul', 'ago', 'sep', 'oct',\n",
              "       'nov', 'dic'], dtype=object)"
            ]
          },
          "metadata": {
            "tags": []
          },
          "execution_count": 62
        }
      ]
    },
    {
      "cell_type": "code",
      "metadata": {
        "id": "5avAgoEdDVCc"
      },
      "source": [
        "dataset.InscriptionMonth = dataset.InscriptionMonth.map({\"abr\": 4, \"abril\": 4, \"ago\": 8, \"agosto\": 8, \"dic\":12, \"diciembre\": 12, \"ene\":1, \"enero\": 1, \"feb\":2, \"febrero\":2,\r\n",
        "                              \"jul\": 7, \"julio\": 7, \"jun\": 6, \"junio\" : 6, \"mar\": 3, \"marzo\": 3, \"may\": 5, \"mayo\": 5, \"nov\": 11, \"noviembre\": 11,\r\n",
        "                              \"oct\": 10, \"octubre\": 10, \"sep\": 9, \"septiembre\": 9})"
      ],
      "execution_count": 63,
      "outputs": []
    },
    {
      "cell_type": "markdown",
      "metadata": {
        "id": "jkY4GgI8JmRY"
      },
      "source": [
        "Check the categorical columns have unique values:"
      ]
    },
    {
      "cell_type": "code",
      "metadata": {
        "colab": {
          "base_uri": "https://localhost:8080/"
        },
        "id": "6uJ5lPfQGgUK",
        "outputId": "84907570-1ec7-429e-ed6a-6e4c964fce12"
      },
      "source": [
        "dataset[\"Género\"].unique()"
      ],
      "execution_count": 64,
      "outputs": [
        {
          "output_type": "execute_result",
          "data": {
            "text/plain": [
              "array(['Mujer', 'Hombre'], dtype=object)"
            ]
          },
          "metadata": {
            "tags": []
          },
          "execution_count": 64
        }
      ]
    },
    {
      "cell_type": "code",
      "metadata": {
        "colab": {
          "base_uri": "https://localhost:8080/"
        },
        "id": "Nmd4BOWtC4fA",
        "outputId": "1622bc3b-7111-4bd0-ef31-374d2f9d820a"
      },
      "source": [
        "dataset[\"Distrito\"].unique()"
      ],
      "execution_count": 65,
      "outputs": [
        {
          "output_type": "execute_result",
          "data": {
            "text/plain": [
              "array(['Carabanchel', 'Tetuán', 'Arganzuela', 'Puente De Vallecas',\n",
              "       'Latina', 'Moratalaz', 'Salamanca', 'Chamberí', 'Otro Municipio',\n",
              "       'Fuencarral-el Pardo', 'Villaverde', 'Centro', 'Ciudad Lineal',\n",
              "       'Hortaleza', 'Moncloa-aravaca', 'Usera', 'Vicálvaro', 'Barajas',\n",
              "       'Villa De Vallecas', 'San Blas', 'Retiro', 'Chamartín'],\n",
              "      dtype=object)"
            ]
          },
          "metadata": {
            "tags": []
          },
          "execution_count": 65
        }
      ]
    },
    {
      "cell_type": "code",
      "metadata": {
        "colab": {
          "base_uri": "https://localhost:8080/"
        },
        "id": "jK3St87AKAq4",
        "outputId": "b6c060f0-a01f-48bb-f4d0-6e0c8085b96f"
      },
      "source": [
        "dataset[\"Nacionalidad\"].unique()"
      ],
      "execution_count": 66,
      "outputs": [
        {
          "output_type": "execute_result",
          "data": {
            "text/plain": [
              "array(['Española', 'Comunitaria', 'Extracomunitaria'], dtype=object)"
            ]
          },
          "metadata": {
            "tags": []
          },
          "execution_count": 66
        }
      ]
    },
    {
      "cell_type": "code",
      "metadata": {
        "colab": {
          "base_uri": "https://localhost:8080/"
        },
        "id": "OR2JEQ8gG5Io",
        "outputId": "2dacd6d8-a9b3-47ea-80c5-3f7e46b8fd55"
      },
      "source": [
        "dataset[\"Tramos de Edad\"].unique()"
      ],
      "execution_count": 67,
      "outputs": [
        {
          "output_type": "execute_result",
          "data": {
            "text/plain": [
              "array(['Entre 26 y 35 años', 'Entre 36 y 45 años', 'Entre 46 y 55 años',\n",
              "       'Entre 56 y 65 años', 'Menor de 25 años', 'Mayor de 65 años'],\n",
              "      dtype=object)"
            ]
          },
          "metadata": {
            "tags": []
          },
          "execution_count": 67
        }
      ]
    },
    {
      "cell_type": "markdown",
      "metadata": {
        "id": "MlVoyWZuHnih"
      },
      "source": [
        "As there are so many empty values for the last two professional codes, these two columns may be removed:\r\n"
      ]
    },
    {
      "cell_type": "code",
      "metadata": {
        "colab": {
          "base_uri": "https://localhost:8080/"
        },
        "id": "U5zR-HS9KO__",
        "outputId": "5bc63e06-3e8a-4855-bf31-5afec29dc0cb"
      },
      "source": [
        "dataset.info()"
      ],
      "execution_count": 68,
      "outputs": [
        {
          "output_type": "stream",
          "text": [
            "<class 'pandas.core.frame.DataFrame'>\n",
            "Int64Index: 46792 entries, 0 to 15138\n",
            "Data columns (total 12 columns):\n",
            " #   Column                         Non-Null Count  Dtype \n",
            "---  ------                         --------------  ----- \n",
            " 0   Género                         46792 non-null  object\n",
            " 1   Distrito                       46792 non-null  object\n",
            " 2   Tramos de Edad                 46792 non-null  object\n",
            " 3   Nacionalidad                   46792 non-null  object\n",
            " 4   Código Objetivo Profesional 1  44581 non-null  Int64 \n",
            " 5   Objetivo Profesional 1         44581 non-null  object\n",
            " 6   Código Objetivo Profesional 2  37423 non-null  Int64 \n",
            " 7   Objetivo Profesional 2         37423 non-null  object\n",
            " 8   Código Objetivo Profesional 3  30873 non-null  Int64 \n",
            " 9   Objetivo Profesional 3         30873 non-null  object\n",
            " 10  InscriptionYear                46792 non-null  int64 \n",
            " 11  InscriptionMonth               46792 non-null  int64 \n",
            "dtypes: Int64(3), int64(2), object(7)\n",
            "memory usage: 4.8+ MB\n"
          ],
          "name": "stdout"
        }
      ]
    },
    {
      "cell_type": "code",
      "metadata": {
        "id": "CoJk9E8WHl44"
      },
      "source": [
        "dataset.drop([\"Código Objetivo Profesional 2\", \"Objetivo Profesional 2\", \"Código Objetivo Profesional 3\", \"Objetivo Profesional 3\"], axis= 1, inplace= True)"
      ],
      "execution_count": 69,
      "outputs": []
    },
    {
      "cell_type": "markdown",
      "metadata": {
        "id": "qlYeDq__LTLm"
      },
      "source": [
        "At the same time, for columns \"Código Objetivo Profesional 1\" and \"Objetivo Profesional 1\", null values will be replaced:\r\n",
        "- Null code -> -1\r\n",
        "- Null objective -> Desconocido\r\n"
      ]
    },
    {
      "cell_type": "code",
      "metadata": {
        "id": "TGaXGYXDJErF"
      },
      "source": [
        "dataset[\"Objetivo Profesional 1\"] = dataset[\"Objetivo Profesional 1\"].fillna(\"Desconocido\")"
      ],
      "execution_count": 70,
      "outputs": []
    },
    {
      "cell_type": "code",
      "metadata": {
        "id": "Uu112WhAMtBr"
      },
      "source": [
        "dataset[\"Código Objetivo Profesional 1\"] = dataset[\"Código Objetivo Profesional 1\"].fillna(-1)"
      ],
      "execution_count": 71,
      "outputs": []
    },
    {
      "cell_type": "markdown",
      "metadata": {
        "id": "V-XulhTsKw0Q"
      },
      "source": [
        "Sort the dataset by year and month:"
      ]
    },
    {
      "cell_type": "code",
      "metadata": {
        "id": "eE2M9z85InH6"
      },
      "source": [
        "dataset.sort_values([\"InscriptionYear\", \"InscriptionMonth\"], inplace=True)"
      ],
      "execution_count": 72,
      "outputs": []
    },
    {
      "cell_type": "markdown",
      "metadata": {
        "id": "Gl4PWp7XK9dg"
      },
      "source": [
        "This is the final result:"
      ]
    },
    {
      "cell_type": "code",
      "metadata": {
        "colab": {
          "base_uri": "https://localhost:8080/"
        },
        "id": "_aEqt9Q0MVWs",
        "outputId": "4775dc27-b23e-43b0-ab7c-5db0a1bd0402"
      },
      "source": [
        "dataset.info()"
      ],
      "execution_count": 73,
      "outputs": [
        {
          "output_type": "stream",
          "text": [
            "<class 'pandas.core.frame.DataFrame'>\n",
            "Int64Index: 46792 entries, 0 to 15138\n",
            "Data columns (total 8 columns):\n",
            " #   Column                         Non-Null Count  Dtype \n",
            "---  ------                         --------------  ----- \n",
            " 0   Género                         46792 non-null  object\n",
            " 1   Distrito                       46792 non-null  object\n",
            " 2   Tramos de Edad                 46792 non-null  object\n",
            " 3   Nacionalidad                   46792 non-null  object\n",
            " 4   Código Objetivo Profesional 1  46792 non-null  Int64 \n",
            " 5   Objetivo Profesional 1         46792 non-null  object\n",
            " 6   InscriptionYear                46792 non-null  int64 \n",
            " 7   InscriptionMonth               46792 non-null  int64 \n",
            "dtypes: Int64(1), int64(2), object(5)\n",
            "memory usage: 3.3+ MB\n"
          ],
          "name": "stdout"
        }
      ]
    },
    {
      "cell_type": "code",
      "metadata": {
        "colab": {
          "base_uri": "https://localhost:8080/",
          "height": 606
        },
        "id": "We7JEjWwIhW4",
        "outputId": "c7d977b8-f652-4573-9946-a5fd1c4c6a16"
      },
      "source": [
        "dataset"
      ],
      "execution_count": 74,
      "outputs": [
        {
          "output_type": "execute_result",
          "data": {
            "text/html": [
              "<div>\n",
              "<style scoped>\n",
              "    .dataframe tbody tr th:only-of-type {\n",
              "        vertical-align: middle;\n",
              "    }\n",
              "\n",
              "    .dataframe tbody tr th {\n",
              "        vertical-align: top;\n",
              "    }\n",
              "\n",
              "    .dataframe thead th {\n",
              "        text-align: right;\n",
              "    }\n",
              "</style>\n",
              "<table border=\"1\" class=\"dataframe\">\n",
              "  <thead>\n",
              "    <tr style=\"text-align: right;\">\n",
              "      <th></th>\n",
              "      <th>Género</th>\n",
              "      <th>Distrito</th>\n",
              "      <th>Tramos de Edad</th>\n",
              "      <th>Nacionalidad</th>\n",
              "      <th>Código Objetivo Profesional 1</th>\n",
              "      <th>Objetivo Profesional 1</th>\n",
              "      <th>InscriptionYear</th>\n",
              "      <th>InscriptionMonth</th>\n",
              "    </tr>\n",
              "  </thead>\n",
              "  <tbody>\n",
              "    <tr>\n",
              "      <th>0</th>\n",
              "      <td>Mujer</td>\n",
              "      <td>Carabanchel</td>\n",
              "      <td>Entre 26 y 35 años</td>\n",
              "      <td>Española</td>\n",
              "      <td>5611</td>\n",
              "      <td>Auxiliares de enfermería hospitalaria</td>\n",
              "      <td>2018</td>\n",
              "      <td>1</td>\n",
              "    </tr>\n",
              "    <tr>\n",
              "      <th>1</th>\n",
              "      <td>Mujer</td>\n",
              "      <td>Tetuán</td>\n",
              "      <td>Entre 36 y 45 años</td>\n",
              "      <td>Española</td>\n",
              "      <td>5120</td>\n",
              "      <td>Camareros asalariados</td>\n",
              "      <td>2018</td>\n",
              "      <td>1</td>\n",
              "    </tr>\n",
              "    <tr>\n",
              "      <th>2</th>\n",
              "      <td>Mujer</td>\n",
              "      <td>Arganzuela</td>\n",
              "      <td>Entre 46 y 55 años</td>\n",
              "      <td>Comunitaria</td>\n",
              "      <td>3522</td>\n",
              "      <td>Agentes de compras</td>\n",
              "      <td>2018</td>\n",
              "      <td>1</td>\n",
              "    </tr>\n",
              "    <tr>\n",
              "      <th>3</th>\n",
              "      <td>Mujer</td>\n",
              "      <td>Puente De Vallecas</td>\n",
              "      <td>Entre 26 y 35 años</td>\n",
              "      <td>Extracomunitaria</td>\n",
              "      <td>4500</td>\n",
              "      <td>Empleados administrativos con tareas de atenci...</td>\n",
              "      <td>2018</td>\n",
              "      <td>1</td>\n",
              "    </tr>\n",
              "    <tr>\n",
              "      <th>4</th>\n",
              "      <td>Hombre</td>\n",
              "      <td>Puente De Vallecas</td>\n",
              "      <td>Entre 36 y 45 años</td>\n",
              "      <td>Española</td>\n",
              "      <td>7111</td>\n",
              "      <td>Encofradores y operarios de puesta en obra de ...</td>\n",
              "      <td>2018</td>\n",
              "      <td>1</td>\n",
              "    </tr>\n",
              "    <tr>\n",
              "      <th>...</th>\n",
              "      <td>...</td>\n",
              "      <td>...</td>\n",
              "      <td>...</td>\n",
              "      <td>...</td>\n",
              "      <td>...</td>\n",
              "      <td>...</td>\n",
              "      <td>...</td>\n",
              "      <td>...</td>\n",
              "    </tr>\n",
              "    <tr>\n",
              "      <th>15134</th>\n",
              "      <td>Mujer</td>\n",
              "      <td>Otro Municipio</td>\n",
              "      <td>Entre 36 y 45 años</td>\n",
              "      <td>Española</td>\n",
              "      <td>3613</td>\n",
              "      <td>Asistentes de dirección y administrativos</td>\n",
              "      <td>2020</td>\n",
              "      <td>12</td>\n",
              "    </tr>\n",
              "    <tr>\n",
              "      <th>15135</th>\n",
              "      <td>Hombre</td>\n",
              "      <td>Retiro</td>\n",
              "      <td>Entre 56 y 65 años</td>\n",
              "      <td>Española</td>\n",
              "      <td>3613</td>\n",
              "      <td>Asistentes de dirección y administrativos</td>\n",
              "      <td>2020</td>\n",
              "      <td>12</td>\n",
              "    </tr>\n",
              "    <tr>\n",
              "      <th>15136</th>\n",
              "      <td>Mujer</td>\n",
              "      <td>Otro Municipio</td>\n",
              "      <td>Entre 56 y 65 años</td>\n",
              "      <td>Española</td>\n",
              "      <td>3613</td>\n",
              "      <td>Asistentes de dirección y administrativos</td>\n",
              "      <td>2020</td>\n",
              "      <td>12</td>\n",
              "    </tr>\n",
              "    <tr>\n",
              "      <th>15137</th>\n",
              "      <td>Hombre</td>\n",
              "      <td>Carabanchel</td>\n",
              "      <td>Menor de 25 años</td>\n",
              "      <td>Española</td>\n",
              "      <td>3613</td>\n",
              "      <td>Asistentes de dirección y administrativos</td>\n",
              "      <td>2020</td>\n",
              "      <td>12</td>\n",
              "    </tr>\n",
              "    <tr>\n",
              "      <th>15138</th>\n",
              "      <td>Mujer</td>\n",
              "      <td>Puente De Vallecas</td>\n",
              "      <td>Entre 26 y 35 años</td>\n",
              "      <td>Española</td>\n",
              "      <td>5710</td>\n",
              "      <td>Trabajadores de los cuidados personales a domi...</td>\n",
              "      <td>2020</td>\n",
              "      <td>12</td>\n",
              "    </tr>\n",
              "  </tbody>\n",
              "</table>\n",
              "<p>46792 rows × 8 columns</p>\n",
              "</div>"
            ],
            "text/plain": [
              "       Género            Distrito  ... InscriptionYear InscriptionMonth\n",
              "0       Mujer         Carabanchel  ...            2018                1\n",
              "1       Mujer              Tetuán  ...            2018                1\n",
              "2       Mujer          Arganzuela  ...            2018                1\n",
              "3       Mujer  Puente De Vallecas  ...            2018                1\n",
              "4      Hombre  Puente De Vallecas  ...            2018                1\n",
              "...       ...                 ...  ...             ...              ...\n",
              "15134   Mujer      Otro Municipio  ...            2020               12\n",
              "15135  Hombre              Retiro  ...            2020               12\n",
              "15136   Mujer      Otro Municipio  ...            2020               12\n",
              "15137  Hombre         Carabanchel  ...            2020               12\n",
              "15138   Mujer  Puente De Vallecas  ...            2020               12\n",
              "\n",
              "[46792 rows x 8 columns]"
            ]
          },
          "metadata": {
            "tags": []
          },
          "execution_count": 74
        }
      ]
    },
    {
      "cell_type": "markdown",
      "metadata": {
        "id": "mDHSDKUBPNaB"
      },
      "source": [
        "## 4. Some conclusions\r\n",
        "\r\n"
      ]
    },
    {
      "cell_type": "markdown",
      "metadata": {
        "id": "KxMGdiViMvvY"
      },
      "source": [
        "Most demanding job positions:\r\n",
        "- Vendedores en tiendas y almacenes\r\n",
        "- Personal de limpieza de oficinas, hoteles y otros establecimientos similares\r\n",
        "- Asistentes de dirección y administrativos\r\n",
        "\r\n",
        "Less demanding job positions:\r\n",
        "- Tapiceros, colchoneros y afines\r\n",
        "- Profesionales de apoyo de la Administración Pública de servicios de expedición de licencias\t\r\n",
        "- Notarios y registradores"
      ]
    },
    {
      "cell_type": "code",
      "metadata": {
        "colab": {
          "base_uri": "https://localhost:8080/",
          "height": 450
        },
        "id": "dGZR2nu4PQYH",
        "outputId": "30d43a2f-a9bd-4906-8081-11a9cd9c76e6"
      },
      "source": [
        "pd.DataFrame(dataset.groupby([\"Objetivo Profesional 1\"]).size()).sort_values(0, ascending = False)"
      ],
      "execution_count": 76,
      "outputs": [
        {
          "output_type": "execute_result",
          "data": {
            "text/html": [
              "<div>\n",
              "<style scoped>\n",
              "    .dataframe tbody tr th:only-of-type {\n",
              "        vertical-align: middle;\n",
              "    }\n",
              "\n",
              "    .dataframe tbody tr th {\n",
              "        vertical-align: top;\n",
              "    }\n",
              "\n",
              "    .dataframe thead th {\n",
              "        text-align: right;\n",
              "    }\n",
              "</style>\n",
              "<table border=\"1\" class=\"dataframe\">\n",
              "  <thead>\n",
              "    <tr style=\"text-align: right;\">\n",
              "      <th></th>\n",
              "      <th>0</th>\n",
              "    </tr>\n",
              "    <tr>\n",
              "      <th>Objetivo Profesional 1</th>\n",
              "      <th></th>\n",
              "    </tr>\n",
              "  </thead>\n",
              "  <tbody>\n",
              "    <tr>\n",
              "      <th>Vendedores en tiendas y almacenes</th>\n",
              "      <td>4679</td>\n",
              "    </tr>\n",
              "    <tr>\n",
              "      <th>Personal de limpieza de oficinas, hoteles y otros establecimientos similares</th>\n",
              "      <td>4187</td>\n",
              "    </tr>\n",
              "    <tr>\n",
              "      <th>Asistentes de dirección y administrativos</th>\n",
              "      <td>3015</td>\n",
              "    </tr>\n",
              "    <tr>\n",
              "      <th>Desconocido</th>\n",
              "      <td>2211</td>\n",
              "    </tr>\n",
              "    <tr>\n",
              "      <th>Peones del transporte de mercancías y descargadores</th>\n",
              "      <td>1844</td>\n",
              "    </tr>\n",
              "    <tr>\n",
              "      <th>...</th>\n",
              "      <td>...</td>\n",
              "    </tr>\n",
              "    <tr>\n",
              "      <th>Operadores de maquinaria agrícola móvil</th>\n",
              "      <td>1</td>\n",
              "    </tr>\n",
              "    <tr>\n",
              "      <th>Portavoces y agentes de relaciones públicas</th>\n",
              "      <td>1</td>\n",
              "    </tr>\n",
              "    <tr>\n",
              "      <th>Notarios y registradores</th>\n",
              "      <td>1</td>\n",
              "    </tr>\n",
              "    <tr>\n",
              "      <th>Profesionales de apoyo de la Administración Pública de servicios de expedición de licencias</th>\n",
              "      <td>1</td>\n",
              "    </tr>\n",
              "    <tr>\n",
              "      <th>Tapiceros, colchoneros y afines</th>\n",
              "      <td>1</td>\n",
              "    </tr>\n",
              "  </tbody>\n",
              "</table>\n",
              "<p>412 rows × 1 columns</p>\n",
              "</div>"
            ],
            "text/plain": [
              "                                                       0\n",
              "Objetivo Profesional 1                                  \n",
              "Vendedores en tiendas y almacenes                   4679\n",
              "Personal de limpieza de oficinas, hoteles y otr...  4187\n",
              "Asistentes de dirección y administrativos           3015\n",
              "Desconocido                                         2211\n",
              "Peones del transporte de mercancías y descargad...  1844\n",
              "...                                                  ...\n",
              "Operadores de maquinaria agrícola móvil                1\n",
              "Portavoces y agentes de relaciones públicas            1\n",
              "Notarios y registradores                               1\n",
              "Profesionales de apoyo de la Administración Púb...     1\n",
              "Tapiceros, colchoneros y afines                        1\n",
              "\n",
              "[412 rows x 1 columns]"
            ]
          },
          "metadata": {
            "tags": []
          },
          "execution_count": 76
        }
      ]
    },
    {
      "cell_type": "markdown",
      "metadata": {
        "id": "5qJYy7yINXaU"
      },
      "source": [
        "### Data Visualization"
      ]
    },
    {
      "cell_type": "code",
      "metadata": {
        "id": "FVbbfV0kNJ9Y"
      },
      "source": [
        "import seaborn as sns\r\n",
        "import matplotlib as plt"
      ],
      "execution_count": 77,
      "outputs": []
    },
    {
      "cell_type": "code",
      "metadata": {
        "colab": {
          "base_uri": "https://localhost:8080/",
          "height": 279
        },
        "id": "63AICCzUOB_y",
        "outputId": "5b563a28-41aa-4670-e114-21d824f24d08"
      },
      "source": [
        "sns.countplot(x = \"Nacionalidad\", hue=\"Género\", data = dataset);"
      ],
      "execution_count": 90,
      "outputs": [
        {
          "output_type": "display_data",
          "data": {
            "image/png": "[encoded data removed]",
            "text/plain": [
              "<Figure size 432x288 with 1 Axes>"
            ]
          },
          "metadata": {
            "tags": [],
            "needs_background": "light"
          }
        }
      ]
    },
    {
      "cell_type": "code",
      "metadata": {
        "colab": {
          "base_uri": "https://localhost:8080/",
          "height": 338
        },
        "id": "HKWVKwNYPX88",
        "outputId": "f34b9deb-d0c6-4340-ab37-9bb19363da47"
      },
      "source": [
        "ax = sns.countplot(x = \"Tramos de Edad\", data = dataset);\r\n",
        "\r\n",
        "ax.set_xticklabels(ax.get_xticklabels(), rotation=40, ha=\"right\");"
      ],
      "execution_count": 91,
      "outputs": [
        {
          "output_type": "display_data",
          "data": {
            "image/png": "[encoded data removed]",
            "text/plain": [
              "<Figure size 432x288 with 1 Axes>"
            ]
          },
          "metadata": {
            "tags": [],
            "needs_background": "light"
          }
        }
      ]
    },
    {
      "cell_type": "code",
      "metadata": {
        "colab": {
          "base_uri": "https://localhost:8080/",
          "height": 279
        },
        "id": "Es9a7X6BFgMG",
        "outputId": "ff0615d1-79e0-4e3c-db8b-9e77e01bb45d"
      },
      "source": [
        "g = sns.countplot(x = \"InscriptionYear\", hue=\"InscriptionMonth\", data = dataset)\r\n",
        "g.legend(bbox_to_anchor= (1.2, 0.5), loc=5);"
      ],
      "execution_count": 92,
      "outputs": [
        {
          "output_type": "display_data",
          "data": {
            "image/png": "[encoded data removed]",
            "text/plain": [
              "<Figure size 432x288 with 1 Axes>"
            ]
          },
          "metadata": {
            "tags": [],
            "needs_background": "light"
          }
        }
      ]
    },
    {
      "cell_type": "code",
      "metadata": {
        "colab": {
          "base_uri": "https://localhost:8080/",
          "height": 296
        },
        "id": "7BCyp4yPO6vD",
        "outputId": "4cc17f36-9548-4043-9a2a-4bcb014cc6d1"
      },
      "source": [
        "sns.countplot(x = \"InscriptionYear\", data = dataset)"
      ],
      "execution_count": 95,
      "outputs": [
        {
          "output_type": "execute_result",
          "data": {
            "text/plain": [
              "<matplotlib.axes._subplots.AxesSubplot at 0x7f9886911390>"
            ]
          },
          "metadata": {
            "tags": []
          },
          "execution_count": 95
        },
        {
          "output_type": "display_data",
          "data": {
            "image/png": "[encoded data removed]",
            "text/plain": [
              "<Figure size 432x288 with 1 Axes>"
            ]
          },
          "metadata": {
            "tags": [],
            "needs_background": "light"
          }
        }
      ]
    }
  ]
}